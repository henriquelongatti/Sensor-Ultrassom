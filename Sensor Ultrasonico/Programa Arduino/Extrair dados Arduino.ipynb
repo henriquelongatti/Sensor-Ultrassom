{
 "cells": [
  {
   "cell_type": "markdown",
   "metadata": {},
   "source": [
    "https://www.learnrobotics.org/blog/arduino-data-logger-csv/?utm_source=youtube&utm_medium=description&utm_campaign=arduino_CSV_data_logger"
   ]
  },
  {
   "cell_type": "code",
   "execution_count": 55,
   "metadata": {
    "scrolled": true
   },
   "outputs": [
    {
     "name": "stdout",
     "output_type": "stream",
     "text": [
      "Requirement already satisfied: pyserial in c:\\users\\henri\\anaconda3\\lib\\site-packages (3.4)\n"
     ]
    },
    {
     "name": "stderr",
     "output_type": "stream",
     "text": [
      "distributed 1.21.8 requires msgpack, which is not installed.\n",
      "You are using pip version 10.0.1, however version 20.2.2 is available.\n",
      "You should consider upgrading via the 'python -m pip install --upgrade pip' command.\n"
     ]
    }
   ],
   "source": [
    "!pip install pyserial"
   ]
  },
  {
   "cell_type": "code",
   "execution_count": 93,
   "metadata": {},
   "outputs": [],
   "source": [
    "import serial\n",
    "\n",
    "arduino_port = \"COM3\"  #serial port of Arduino\n",
    "baud = 9600 #arduino uno runs at 9600 baud\n",
    "fileName=\"ULTRASOM-data.csv\" #name of the CSV file generated\n"
   ]
  },
  {
   "cell_type": "code",
   "execution_count": 94,
   "metadata": {},
   "outputs": [
    {
     "name": "stdout",
     "output_type": "stream",
     "text": [
      "Connected to Arduino port:COM3\n",
      "Created file\n"
     ]
    }
   ],
   "source": [
    "ser = serial.Serial(arduino_port, baud)\n",
    "print(\"Connected to Arduino port:\" + arduino_port)\n",
    "file = open(fileName, \"a\")\n",
    "print(\"Created file\")"
   ]
  },
  {
   "cell_type": "code",
   "execution_count": 95,
   "metadata": {},
   "outputs": [
    {
     "name": "stdout",
     "output_type": "stream",
     "text": [
      "Distancia em cm,Distancia em polegadas\n"
     ]
    }
   ],
   "source": [
    "#display the data to the terminal\n",
    "getData=str(ser.readline())\n",
    "data=getData[2:][:-3]\n",
    "print(data)\n",
    "\n",
    "#add the data to the file\n",
    "file = open(fileName, \"a\") #append the data to the file\n",
    "file.write(data + \"\\n\") #write data with a newline\n",
    "\n",
    "#close out the file\n",
    "file.close()"
   ]
  },
  {
   "cell_type": "code",
   "execution_count": 96,
   "metadata": {},
   "outputs": [
    {
     "name": "stdout",
     "output_type": "stream",
     "text": [
      "30.17,11.88\n",
      "30.45,11.99\n",
      "30.46,11.99\n",
      "30.55,12.03\n",
      "30.45,11.99\n",
      "30.55,12.03\n",
      "30.46,11.99\n",
      "30.55,12.03\n",
      "30.45,11.99\n",
      "30.55,12.03\n",
      "30.45,11.99\n",
      "30.55,12.03\n",
      "30.45,11.99\n",
      "30.55,12.03\n",
      "30.45,11.99\n",
      "30.55,12.03\n",
      "30.45,11.99\n",
      "30.45,11.99\n",
      "30.45,11.99\n",
      "30.45,11.99\n",
      "30.45,11.99\n",
      "30.45,11.99\n",
      "30.55,12.03\n",
      "30.46,11.99\n",
      "30.55,12.03\n",
      "30.45,11.99\n",
      "30.55,12.03\n",
      "30.88,12.16\n",
      "30.57,12.04\n",
      "30.45,11.99\n",
      "30.55,12.03\n",
      "30.46,11.99\n",
      "30.57,12.04\n",
      "30.45,11.99\n",
      "30.50,12.01\n",
      "30.45,11.99\n",
      "30.45,11.99\n",
      "30.45,11.99\n",
      "30.45,11.99\n",
      "30.45,11.99\n",
      "30.45,11.99\n",
      "30.55,12.03\n",
      "30.45,11.99\n",
      "30.55,12.03\n",
      "30.46,11.99\n",
      "30.55,12.03\n",
      "30.45,11.99\n",
      "30.55,12.03\n",
      "30.46,11.99\n",
      "30.55,12.03\n",
      "30.45,11.99\n",
      "30.55,12.03\n",
      "30.45,11.99\n",
      "30.45,11.99\n",
      "30.45,11.99\n",
      "30.45,11.99\n",
      "30.41,11.97\n",
      "30.45,11.99\n",
      "30.45,11.99\n",
      "30.45,11.99\n",
      "30.57,12.04\n",
      "30.45,11.99\n",
      "30.55,12.03\n",
      "30.45,11.99\n",
      "30.55,12.03\n",
      "30.45,11.99\n",
      "30.55,12.03\n",
      "30.45,11.99\n",
      "30.55,12.03\n",
      "30.45,11.99\n",
      "30.55,12.03\n",
      "30.45,11.99\n",
      "30.45,11.99\n",
      "30.45,11.99\n",
      "30.45,11.99\n",
      "30.46,11.99\n",
      "30.45,11.99\n",
      "30.55,12.03\n",
      "30.45,11.99\n",
      "30.55,12.03\n",
      "30.45,11.99\n",
      "30.55,12.03\n",
      "30.45,11.99\n",
      "30.57,12.04\n",
      "30.45,11.99\n",
      "30.55,12.03\n",
      "30.45,11.99\n",
      "30.55,12.03\n",
      "30.45,11.99\n",
      "30.55,12.03\n",
      "30.45,11.99\n",
      "30.46,11.99\n",
      "30.45,11.99\n",
      "30.45,11.99\n",
      "30.45,11.99\n",
      "30.45,11.99\n",
      "30.55,12.03\n",
      "30.45,11.99\n",
      "30.55,12.03\n",
      "30.46,11.99\n",
      "30.55,12.03\n",
      "Data collection complete!\n"
     ]
    }
   ],
   "source": [
    "samples = 100 #how many samples to collect\n",
    "print_labels = False\n",
    "line = 0 #start at 0 because our header is 0 (not real data)\n",
    "while line <= samples:\n",
    "    # incoming = ser.read(9999)\n",
    "    # if len(incoming) > 0:\n",
    "    if print_labels:\n",
    "        if line==0:\n",
    "            print(\"Printing Column Headers\")\n",
    "        else:\n",
    "            print(\"Line \" + str(line) + \": writing...\")\n",
    "    getData=str(ser.readline())\n",
    "    data=getData[2:][:-5]\n",
    "    print(data)\n",
    "\n",
    "    file = open(fileName, \"a\")\n",
    "    file.write(data + \"\\n\") #write data with a newline\n",
    "    line = line+1\n",
    "\n",
    "print(\"Data collection complete!\")\n",
    "file.close()"
   ]
  },
  {
   "cell_type": "code",
   "execution_count": null,
   "metadata": {},
   "outputs": [],
   "source": []
  },
  {
   "cell_type": "code",
   "execution_count": null,
   "metadata": {},
   "outputs": [],
   "source": []
  }
 ],
 "metadata": {
  "kernelspec": {
   "display_name": "Python 3",
   "language": "python",
   "name": "python3"
  },
  "language_info": {
   "codemirror_mode": {
    "name": "ipython",
    "version": 3
   },
   "file_extension": ".py",
   "mimetype": "text/x-python",
   "name": "python",
   "nbconvert_exporter": "python",
   "pygments_lexer": "ipython3",
   "version": "3.6.5"
  }
 },
 "nbformat": 4,
 "nbformat_minor": 2
}
